{
  "nbformat": 4,
  "nbformat_minor": 0,
  "metadata": {
    "colab": {
      "provenance": [],
      "authorship_tag": "ABX9TyMaLoEUbijJPmLJ4F3VeEQB"
    },
    "kernelspec": {
      "name": "python3",
      "display_name": "Python 3"
    },
    "language_info": {
      "name": "python"
    }
  },
  "cells": [
    {
      "cell_type": "code",
      "execution_count": null,
      "metadata": {
        "id": "58dA9sPp83jA"
      },
      "outputs": [],
      "source": [
        "'''\n",
        "Q = Query : t 시점의 디코더 셀에서의 은닉 상태\n",
        "K = Keys : 모든 시점의 인코더 셀의 은닉 상태들\n",
        "V = Values : 모든 시점의 인코더 셀의 은닉 상태들\n",
        "'''"
      ]
    },
    {
      "cell_type": "code",
      "source": [
        "from tensorflow.keras.datasets import imdb\n",
        "from tensorflow.keras.utils import to_categorical\n",
        "from tensorflow.keras.preprocessing.sequence import pad_sequences"
      ],
      "metadata": {
        "id": "cNQ403UeD9f0"
      },
      "execution_count": 2,
      "outputs": []
    },
    {
      "cell_type": "code",
      "source": [
        "vocab_size = 10000\n",
        "(X_train, y_train), (X_test, y_test) = imdb.load_data(num_words=vocab_size)\n",
        "\n",
        "print('리뷰의 최대 길이 : {}'.format(max(len(l) for l in X_train)))\n",
        "print('리뷰의 평균 길이 : {}'.format(sum(map(len, X_train))/len(X_train)))\n",
        "\n",
        "max_len = 500\n",
        "X_train = pad_sequences(X_train, maxlen=max_len)\n",
        "X_test = pad_sequences(X_test, maxlen=max_len)"
      ],
      "metadata": {
        "colab": {
          "base_uri": "https://localhost:8080/"
        },
        "id": "jSgN0ROzEJp2",
        "outputId": "51d1179c-550d-4cbd-eea4-77f8bb67e6b0"
      },
      "execution_count": 10,
      "outputs": [
        {
          "output_type": "stream",
          "name": "stdout",
          "text": [
            "리뷰의 최대 길이 : 2494\n",
            "리뷰의 평균 길이 : 238.71364\n"
          ]
        }
      ]
    },
    {
      "cell_type": "markdown",
      "source": [
        "# 바다나우 어텐션 적용"
      ],
      "metadata": {
        "id": "6hQ74PDIFQyJ"
      }
    },
    {
      "cell_type": "code",
      "source": [
        "import tensorflow as tf"
      ],
      "metadata": {
        "id": "4EUdQ6s-E_rl"
      },
      "execution_count": 12,
      "outputs": []
    },
    {
      "cell_type": "markdown",
      "source": [
        "Dense()의 대표적인 인자를 보겠습니다.\n",
        "\n",
        "첫번째 인자 = 출력 뉴런의 수.\n",
        "input_dim = 입력 뉴런의 수. (입력의 차원)\n",
        "activation = 활성화 함수.\n",
        "- linear : 디폴트 값으로 별도 활성화 함수 없이 입력 뉴런과 가중치의 계산 결과 그대로 출력.\n",
        "- sigmoid : 이진 분류 문제에서 출력층에 주로 사용되는 활성화 함수.\n",
        "- softmax : 셋 이상의 선택지 중 하나를 택하는 다중 클래스 분류 문제에서 출력층에 주로 사용되는 활성화 함수.\n",
        "- relu : 은닉층에 주로 사용되는 활성화 함수."
      ],
      "metadata": {
        "id": "aGjeJsrBJCN6"
      }
    },
    {
      "cell_type": "code",
      "source": [
        "class BahdanauAttention(tf.keras.Model):\n",
        "  def __init__(self, units):\n",
        "    super(BahdanauAttention, self).__init__()\n",
        "    self.W1 = Dense(units)\n",
        "    self.W2 = Dense(units)\n",
        "    self.V = Dense(units)\n",
        "\n",
        "  def call(self, values, query):\n",
        "    # key와 values 동일\n",
        "    # query shape == (batch_size, hidden size)\n",
        "    # hidden_with_time_axis shape == (batch_size, 1, hidden size)\n",
        "    # score 계산을 위해, 뒤에서 할 덧셈을 위해서 차원 변경\n",
        "    hidden_with_time_axis = tf.expand_dims(query, 1) # (늘릴 배열, 몇번째 차원의 크기를 늘릴 것인지)\n",
        "\n",
        "    # score shape == (batch_size, max_length, 1)\n",
        "    # we get 1 at the last axis because we are applying score to self.V\n",
        "    # the shape of the tensor before applying self.V is (batch_size, max_length, units)\n",
        "    score = self.V(tf.nn.tanh(\n",
        "        self.W1(values) + self.W2(hidden_with_time_axis)))\n",
        "\n",
        "    # attention_weights shape == (batch_size, max_length, 1)\n",
        "    attention_weights = tf.nn.softmax(score, axis=1) # 소프트맥스 함수 연산\n",
        "\n",
        "    # context_vector shape after sum == (batch_size, hidden_size)\n",
        "    context_vector = attention_weights * values\n",
        "    context_vector = tf.reduce_sum(context_vector, axis=1) # 텐서의 모든 성분의 총합 계산 (가중합)\n",
        "\n",
        "    return context_vector, attention_weights"
      ],
      "metadata": {
        "id": "-s3w5Co5FZsw"
      },
      "execution_count": 15,
      "outputs": []
    },
    {
      "cell_type": "markdown",
      "source": [
        "# Bidirectional LSTM with Attention Mechanism"
      ],
      "metadata": {
        "id": "QIvmNNdLNnyb"
      }
    },
    {
      "cell_type": "code",
      "source": [
        "from tensorflow.keras.layers import Dense, Embedding, Bidirectional, LSTM, Concatenate, Dropout\n",
        "from tensorflow.keras import Input, Model\n",
        "from tensorflow.keras import optimizers\n",
        "import os"
      ],
      "metadata": {
        "id": "mIx6OGLlNnZ0"
      },
      "execution_count": 16,
      "outputs": []
    },
    {
      "cell_type": "code",
      "source": [
        "sequence_input = Input(shape=(max_len,), dtype = 'int32')\n",
        "\n",
        "# 10,000 개의 단어들을 128차원의 벡터로 임베딩\n",
        "embedded_sequences = Embedding(vocab_size, 128, input_length=max_len, mask_zero=True)(sequence_input)\n",
        "\n",
        "# 첫번째 층\n",
        "lstm = Bidirectional(LSTM(64, dropout=0.5, return_sequences=True))(embedded_sequences)\n",
        "# 두번째 층\n",
        "lstm, forward_h, forward_c, backward_h, backward_c = Bidirectional(\n",
        "    LSTM(64, dropout=0.5, return_sequences=True, return_state=True)\n",
        ")(lstm)\n",
        "\n",
        "# 각 상태의 크기 출력\n",
        "print(lstm.shape, forward_h.shape, forward_c.shape, backward_h.shape, backward_c.shape)\n",
        "\n",
        "# 두 방향의 LSTM 상태들을 연결\n",
        "state_h = Concatenate()([forward_h, backward_h]) # 은닉 상태\n",
        "state_c = Concatenate()([forward_c, backward_c]) # 셀 상태"
      ],
      "metadata": {
        "colab": {
          "base_uri": "https://localhost:8080/"
        },
        "id": "MhV_aXfsOfc0",
        "outputId": "2c0c763d-13c7-4fd2-e55f-838704fb7716"
      },
      "execution_count": 18,
      "outputs": [
        {
          "output_type": "stream",
          "name": "stdout",
          "text": [
            "(None, 500, 128) (None, 64) (None, 64) (None, 64) (None, 64)\n"
          ]
        }
      ]
    },
    {
      "cell_type": "code",
      "source": [
        "# Context Vector\n",
        "attention = BahdanauAttention(128) # 가중치 크기 정의\n",
        "context_vector, attention_weights = attention(lstm, state_h)"
      ],
      "metadata": {
        "id": "4t4ZPSqAQBY-"
      },
      "execution_count": 21,
      "outputs": []
    },
    {
      "cell_type": "code",
      "source": [
        "dense1 = Dense(20, activation=\"relu\")(context_vector)\n",
        "dropout = Dropout(0.5)(dense1)\n",
        "output = Dense(1, activation=\"sigmoid\")(dropout)\n",
        "model = Model(inputs=sequence_input, outputs=output)"
      ],
      "metadata": {
        "id": "IUR_UUfbQTIT"
      },
      "execution_count": 22,
      "outputs": []
    },
    {
      "cell_type": "code",
      "source": [
        "# Model Compile\n",
        "model.compile(loss=\"binary_crossentropy\", optimizer=\"adam\", metrics=[\"accuracy\"])"
      ],
      "metadata": {
        "id": "dgBCExu7RIMa"
      },
      "execution_count": 24,
      "outputs": []
    },
    {
      "cell_type": "code",
      "source": [
        "# Model Training\n",
        "history = model.fit(X_train, y_train, epochs = 3, batch_size = 256, validation_data=(X_test, y_test), verbose=1)"
      ],
      "metadata": {
        "colab": {
          "base_uri": "https://localhost:8080/"
        },
        "id": "yBFcXagMRSwA",
        "outputId": "9a9d4057-71a9-4332-d163-a6966fa560d8"
      },
      "execution_count": 25,
      "outputs": [
        {
          "output_type": "stream",
          "name": "stdout",
          "text": [
            "Epoch 1/3\n",
            "98/98 [==============================] - 1271s 13s/step - loss: 0.4800 - accuracy: 0.7674 - val_loss: 0.2861 - val_accuracy: 0.8831\n",
            "Epoch 2/3\n",
            "98/98 [==============================] - 1250s 13s/step - loss: 0.2457 - accuracy: 0.9118 - val_loss: 0.2852 - val_accuracy: 0.8835\n",
            "Epoch 3/3\n",
            "98/98 [==============================] - 1249s 13s/step - loss: 0.1907 - accuracy: 0.9359 - val_loss: 0.3301 - val_accuracy: 0.8763\n"
          ]
        }
      ]
    }
  ]
}