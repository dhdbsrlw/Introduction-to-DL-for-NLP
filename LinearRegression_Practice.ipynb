{
  "nbformat": 4,
  "nbformat_minor": 0,
  "metadata": {
    "colab": {
      "provenance": [],
      "authorship_tag": "ABX9TyPbOv9gzzIQPWWiEqAtY2eL"
    },
    "kernelspec": {
      "name": "python3",
      "display_name": "Python 3"
    },
    "language_info": {
      "name": "python"
    }
  },
  "cells": [
    {
      "cell_type": "code",
      "source": [
        "import tensorflow as tf\n",
        "\n",
        "w = tf.Variable(2.)\n",
        "\n",
        "def f(w):\n",
        "  y = w**2\n",
        "  z = 2*y + 5\n",
        "  return z"
      ],
      "metadata": {
        "id": "lhPbhGT_UdX1"
      },
      "execution_count": null,
      "outputs": []
    },
    {
      "cell_type": "code",
      "source": [
        "with tf.GradientTape() as tape: # with ... as 특정 함수를 잊지 않고 '닫기' 위한 목적\n",
        "  z = f(w)\n",
        "\n",
        "gradients = tape.gradient(z, [w])\n",
        "print(gradients)"
      ],
      "metadata": {
        "colab": {
          "base_uri": "https://localhost:8080/"
        },
        "id": "ExqCiJchUod-",
        "outputId": "56c827c9-dd81-4870-b06d-2e5213f4dc2b"
      },
      "execution_count": null,
      "outputs": [
        {
          "output_type": "stream",
          "name": "stdout",
          "text": [
            "[<tf.Tensor: shape=(), dtype=float32, numpy=8.0>]\n"
          ]
        }
      ]
    },
    {
      "cell_type": "code",
      "source": [
        "# 학습될 가중치 변수를 선언\n",
        "w = tf.Variable(4.0)\n",
        "b = tf.Variable(1.0)\n",
        "\n",
        "@tf.function\n",
        "def hypothesis(x):\n",
        "  return w*x + b"
      ],
      "metadata": {
        "id": "d9xHlru2VSWK"
      },
      "execution_count": null,
      "outputs": []
    },
    {
      "cell_type": "code",
      "source": [
        "x_test = [3.5, 5, 5.5, 6]\n",
        "print(hypothesis(x_test).numpy())"
      ],
      "metadata": {
        "colab": {
          "base_uri": "https://localhost:8080/"
        },
        "id": "BtJwQMxIVmXD",
        "outputId": "62489ab8-e8aa-4c55-ab32-daba98693fff"
      },
      "execution_count": null,
      "outputs": [
        {
          "output_type": "stream",
          "name": "stdout",
          "text": [
            "[15. 21. 23. 25.]\n"
          ]
        }
      ]
    },
    {
      "cell_type": "code",
      "source": [
        "@tf.function\n",
        "def mse_loss(y_pred, y):\n",
        "  return tf.reduce_mean(tf.squre(y_pred - y))\n",
        "\n",
        "# 데이터\n",
        "x = [1, 2, 3, 4, 5, 6, 7, 8, 9] # 공부 시간\n",
        "y = [11, 22, 33, 44, 53, 66, 77, 87, 95] # 각 공부 시간에 매핑되는 성적\n",
        "\n",
        "optimizer = tf.optimizers.SGD(0.01) # 학습률 0.01"
      ],
      "metadata": {
        "id": "cYWYkGr2V127"
      },
      "execution_count": null,
      "outputs": []
    },
    {
      "cell_type": "code",
      "source": [
        "# 경사하강법 수행\n",
        "\n",
        "for i in range(301):\n",
        "  with tf.GradientTape() as tape:\n",
        "    y_pred = hypothesis(x)\n",
        "    cost = mse_loss(y_pred, y)\n",
        "\n",
        "  # 미분값 계산\n",
        "  gradients = tape.gradient(cost, [w, b])\n",
        "\n",
        "  #파라미터 업데이트\n",
        "  optimizer.apply_gradients(zip(gradients, [w, b]))\n",
        "\n",
        "  if i % 10 == 0:\n",
        "    print(\"epoch : {:3} | w의 값 : {:5.4f} ...\")"
      ],
      "metadata": {
        "id": "TbglA7-tWX2o"
      },
      "execution_count": null,
      "outputs": []
    }
  ]
}