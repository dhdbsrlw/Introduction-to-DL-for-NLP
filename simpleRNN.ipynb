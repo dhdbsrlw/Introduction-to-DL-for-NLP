{
  "nbformat": 4,
  "nbformat_minor": 0,
  "metadata": {
    "colab": {
      "provenance": [],
      "authorship_tag": "ABX9TyMN/e1KxZLfoJtEVp6bq+vT"
    },
    "kernelspec": {
      "name": "python3",
      "display_name": "Python 3"
    },
    "language_info": {
      "name": "python"
    }
  },
  "cells": [
    {
      "cell_type": "code",
      "execution_count": 1,
      "metadata": {
        "id": "XYnchbf8fvry",
        "colab": {
          "base_uri": "https://localhost:8080/"
        },
        "outputId": "4805f524-c229-4751-b4b1-6a16395856d2"
      },
      "outputs": [
        {
          "output_type": "stream",
          "name": "stdout",
          "text": [
            "Model: \"sequential\"\n",
            "_________________________________________________________________\n",
            " Layer (type)                Output Shape              Param #   \n",
            "=================================================================\n",
            " simple_rnn (SimpleRNN)      (None, 3)                 42        \n",
            "                                                                 \n",
            "=================================================================\n",
            "Total params: 42\n",
            "Trainable params: 42\n",
            "Non-trainable params: 0\n",
            "_________________________________________________________________\n"
          ]
        }
      ],
      "source": [
        "from tensorflow.keras.models import Sequential\n",
        "from tensorflow.keras.layers import SimpleRNN\n",
        "\n",
        "model = Sequential()\n",
        "model.add(SimpleRNN(3, input_shape=(2,10)))\n",
        "model.summary()"
      ]
    },
    {
      "cell_type": "code",
      "source": [
        "model = Sequential()\n",
        "model.add(SimpleRNN(3, batch_input_shape=(8,2,10)))\n",
        "model.summary()"
      ],
      "metadata": {
        "colab": {
          "base_uri": "https://localhost:8080/"
        },
        "id": "k0DmZSX9bTuO",
        "outputId": "78a01eba-ca9c-4d29-a961-7411929b5ec4"
      },
      "execution_count": 4,
      "outputs": [
        {
          "output_type": "stream",
          "name": "stdout",
          "text": [
            "Model: \"sequential_3\"\n",
            "_________________________________________________________________\n",
            " Layer (type)                Output Shape              Param #   \n",
            "=================================================================\n",
            " simple_rnn_3 (SimpleRNN)    (8, 3)                    42        \n",
            "                                                                 \n",
            "=================================================================\n",
            "Total params: 42\n",
            "Trainable params: 42\n",
            "Non-trainable params: 0\n",
            "_________________________________________________________________\n"
          ]
        }
      ]
    },
    {
      "cell_type": "code",
      "source": [
        "model = Sequential()\n",
        "model.add(SimpleRNN(3, batch_input_shape=(8,2,10), return_sequences=True))\n",
        "model.summary()"
      ],
      "metadata": {
        "colab": {
          "base_uri": "https://localhost:8080/"
        },
        "id": "kztMr63wbogk",
        "outputId": "7e6c6914-7708-4fab-dd30-945d1cb30e78"
      },
      "execution_count": 6,
      "outputs": [
        {
          "output_type": "stream",
          "name": "stdout",
          "text": [
            "Model: \"sequential_5\"\n",
            "_________________________________________________________________\n",
            " Layer (type)                Output Shape              Param #   \n",
            "=================================================================\n",
            " simple_rnn_4 (SimpleRNN)    (8, 2, 3)                 42        \n",
            "                                                                 \n",
            "=================================================================\n",
            "Total params: 42\n",
            "Trainable params: 42\n",
            "Non-trainable params: 0\n",
            "_________________________________________________________________\n"
          ]
        }
      ]
    },
    {
      "cell_type": "code",
      "source": [
        "# (수식 관점에서) 파이썬으로 RNN 구현\n",
        "\n",
        "import numpy as np\n",
        "\n",
        "timesteps = 10 # 보통 자연어 처리에서는 문장의 길이\n",
        "input_dim = 4 # 단어 벡터의 차원\n",
        "hidden_units = 8 # 메모리 셀의 용량\n",
        "\n",
        "# 입력에 해당하는 2D 텐서 (실제로는 3D 텐서이나 구현상의 편의를 위해 2D로 설정)\n",
        "inputs = np.random.random((timesteps, input_dim))\n",
        "\n",
        "# 초기 은닉상태를 0(vector)로 초기화\n",
        "hidden_state_t = np.zeros((hidden_units,))\n",
        "\n",
        "print('초기 은닉 상태:', hidden_state_t)"
      ],
      "metadata": {
        "colab": {
          "base_uri": "https://localhost:8080/"
        },
        "id": "GHElztSFca5c",
        "outputId": "3ffe6c23-4c43-4a27-fdcc-1d542f2859d2"
      },
      "execution_count": 7,
      "outputs": [
        {
          "output_type": "stream",
          "name": "stdout",
          "text": [
            "초기 은닉 상태: [0. 0. 0. 0. 0. 0. 0. 0.]\n"
          ]
        }
      ]
    },
    {
      "cell_type": "code",
      "source": [
        "# 가중치와 편향 정의\n",
        "\n",
        "# (8,4) 크기의 2D 텐서 생성 - 입력에 대한 가중치\n",
        "W_x = np.random.random((hidden_units, input_dim))\n",
        "\n",
        "# (8,8) 크기의 2D 텐서 생성 - 은닉 상태에 대한 가중치\n",
        "W_h = np.random.random((hidden_units, hidden_units))\n",
        "\n",
        "# (8,) 크기의 1D 텐서 생성 - 편향(bias)\n",
        "b = np.random.random((hidden_units,))"
      ],
      "metadata": {
        "id": "GHQx3kzYddSV"
      },
      "execution_count": 9,
      "outputs": []
    },
    {
      "cell_type": "code",
      "source": [
        "# 모든 시점의 은닉 상태를 출력하며 RNN 층 동작\n",
        "\n",
        "total_hidden_states = []\n",
        "\n",
        "# 각 시점의 입력값\n",
        "for input_t in inputs:\n",
        "\n",
        "  output_t = np.tanh(np.dot(W_x, input_t) + np.dot(W_h, hidden_state_t) + b)\n",
        "  total_hidden_states.append(list(output_t))\n",
        "  hidden_state_t = output_t\n",
        "\n",
        "total_hidden_states = np.stack(total_hidden_states, axis = 0)\n",
        "\n",
        "print('모든 시점의 은닉 상태 :')\n",
        "print(total_hidden_states)"
      ],
      "metadata": {
        "colab": {
          "base_uri": "https://localhost:8080/"
        },
        "id": "mRcsBre0eJjK",
        "outputId": "8f9c3c01-f131-4c3a-dae9-3829d4990e9c"
      },
      "execution_count": 10,
      "outputs": [
        {
          "output_type": "stream",
          "name": "stdout",
          "text": [
            "모든 시점의 은닉 상태 :\n",
            "[[0.91229187 0.89673828 0.84992962 0.85941851 0.97195501 0.90249924\n",
            "  0.85230396 0.8672287 ]\n",
            " [0.99999436 0.99997561 0.99999348 0.99995339 0.99998801 0.99943374\n",
            "  0.99947089 0.99995495]\n",
            " [0.9999986  0.99998985 0.99999805 0.99996839 0.99999261 0.99933106\n",
            "  0.99972783 0.99997704]\n",
            " [0.99999147 0.99996498 0.99998965 0.9999449  0.99997233 0.99930274\n",
            "  0.99792801 0.99990146]\n",
            " [0.99999839 0.999988   0.99999756 0.99997596 0.99999381 0.99932655\n",
            "  0.9996975  0.99997594]\n",
            " [0.99999824 0.99998893 0.99999797 0.99998386 0.99999571 0.99965949\n",
            "  0.99970231 0.99997985]\n",
            " [0.99999756 0.99998193 0.99999653 0.99997372 0.99999362 0.99942061\n",
            "  0.99959916 0.99997149]\n",
            " [0.99999444 0.99997298 0.99999494 0.99998136 0.99999411 0.99978029\n",
            "  0.99918992 0.99996285]\n",
            " [0.99999537 0.99997124 0.99999449 0.99998008 0.99999439 0.99964841\n",
            "  0.99933565 0.99996439]\n",
            " [0.9999977  0.99998478 0.99999654 0.99996134 0.99998866 0.99915412\n",
            "  0.99951215 0.99996345]]\n"
          ]
        }
      ]
    },
    {
      "cell_type": "markdown",
      "source": [
        "# 점검 퀴즈\n",
        "\n",
        "모델에 대한 설명이 다음과 같을 때, 총 마라미터의 개수를 구하여라.\n",
        "\n",
        "1. Embedding을 사용하며, 단어 집합(Vocabulary)의 크기가 5,000이고 임베딩 벡터의 차원은 100입니다.\n",
        "2. 은닉층에서는 Simple RNN을 사용하며, 은닉 상태의 크기는 128입니다.\n",
        "3. 훈련에 사용하는 모든 샘플의 길이는 30으로 가정합니다.\n",
        "4. 이진 분류를 수행하는 모델로, 출력층의 뉴런은 1개로 시그모이드 함수를 사용합니다.\n",
        "5. 은닉층은 1개입니다."
      ],
      "metadata": {
        "id": "noxCnspzfMDG"
      }
    },
    {
      "cell_type": "code",
      "source": [
        "# 점검 퀴즈 정답\n",
        "\n",
        "from keras.models import Sequential\n",
        "from keras.layers import SimpleRNN, Embedding, Dense\n",
        "\n",
        "vocab_size = 5000\n",
        "embedding_dim = 100\n",
        "hidden_size = 128\n",
        "\n",
        "model = Sequential()\n",
        "model.add(Embedding(vocab_size, embedding_dim))\n",
        "model.add(SimpleRNN(hidden_size))\n",
        "model.add(Dense(1, activation = 'sigmoid'))\n",
        "model.summary()"
      ],
      "metadata": {
        "colab": {
          "base_uri": "https://localhost:8080/"
        },
        "id": "W4H2iBOSpVuu",
        "outputId": "dda43ab4-42b8-4c19-d080-9e95502711bf"
      },
      "execution_count": 11,
      "outputs": [
        {
          "output_type": "stream",
          "name": "stdout",
          "text": [
            "Model: \"sequential_6\"\n",
            "_________________________________________________________________\n",
            " Layer (type)                Output Shape              Param #   \n",
            "=================================================================\n",
            " embedding (Embedding)       (None, None, 100)         500000    \n",
            "                                                                 \n",
            " simple_rnn_5 (SimpleRNN)    (None, 128)               29312     \n",
            "                                                                 \n",
            " dense (Dense)               (None, 1)                 129       \n",
            "                                                                 \n",
            "=================================================================\n",
            "Total params: 529,441\n",
            "Trainable params: 529,441\n",
            "Non-trainable params: 0\n",
            "_________________________________________________________________\n"
          ]
        }
      ]
    }
  ]
}